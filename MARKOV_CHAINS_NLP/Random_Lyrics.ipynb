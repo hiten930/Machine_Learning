{
 "cells": [
  {
   "cell_type": "code",
   "execution_count": 37,
   "metadata": {},
   "outputs": [],
   "source": [
    "import numpy as np"
   ]
  },
  {
   "cell_type": "code",
   "execution_count": 38,
   "metadata": {},
   "outputs": [],
   "source": [
    "text_path = './Apna Time Aayega.txt'"
   ]
  },
  {
   "cell_type": "code",
   "execution_count": 39,
   "metadata": {},
   "outputs": [],
   "source": [
    "def load_text(filename):\n",
    "    with open(filename,encoding='utf8') as f:\n",
    "        return f.read().lower()\n",
    "    \n",
    "text = load_text(text_path)"
   ]
  },
  {
   "cell_type": "code",
   "execution_count": 40,
   "metadata": {},
   "outputs": [],
   "source": [
    "def gentable(text,k):\n",
    "    t = {}\n",
    "    \n",
    "    for i in range(len(text)-k):\n",
    "        X = text[i:i+k]\n",
    "        Y = text[i+k]\n",
    "        \n",
    "        if t.get(X) is None:\n",
    "            t[X] = {}\n",
    "            t[X][Y] = 1\n",
    "            \n",
    "        else:\n",
    "            if t[X].get(Y) is None:\n",
    "                t[X][Y] = 1\n",
    "            else:\n",
    "                t[X][Y] += 1\n",
    "    \n",
    "    return t\n",
    "\n",
    "def probability(t,k):\n",
    "    \n",
    "    for i in t.keys():\n",
    "        \n",
    "        s = sum(t[i].values())\n",
    "        \n",
    "        for j in t[i].keys():\n",
    "            t[i][j] /= float(s)\n",
    "            \n",
    "    return t"
   ]
  },
  {
   "cell_type": "code",
   "execution_count": 41,
   "metadata": {},
   "outputs": [],
   "source": [
    "def trainMarkovChain(text,k):\n",
    "    \n",
    "    t = gentable(text,k)\n",
    "    t = probability(t,k)\n",
    "    \n",
    "    return t"
   ]
  },
  {
   "cell_type": "code",
   "execution_count": 42,
   "metadata": {},
   "outputs": [],
   "source": [
    "model = trainMarkovChain(text,k=4)"
   ]
  },
  {
   "cell_type": "code",
   "execution_count": 46,
   "metadata": {},
   "outputs": [],
   "source": [
    "np.random.seed(5)\n",
    "def sample_next(ctx,T,k):\n",
    "    ctx = ctx[-k:]\n",
    "    if T.get(ctx) is None:\n",
    "        return \" \"\n",
    "    possible_Chars = list(T[ctx].keys())\n",
    "    possible_values = list(T[ctx].values())\n",
    "    \n",
    "    #print(possible_Chars)\n",
    "    #print(possible_values)\n",
    "\n",
    "    return np.random.choice(possible_Chars,p=possible_values)"
   ]
  },
  {
   "cell_type": "code",
   "execution_count": 47,
   "metadata": {},
   "outputs": [],
   "source": [
    "def generateText(starting_sent,k,maxLen=2000):\n",
    "    \n",
    "    sentence = starting_sent\n",
    "    ctx = starting_sent[-k:]\n",
    "    \n",
    "    for ix in range(maxLen):\n",
    "        next_prediction = sample_next(ctx,model,k)\n",
    "        sentence += next_prediction\n",
    "        ctx = sentence[-k:]\n",
    "    return sentence"
   ]
  },
  {
   "cell_type": "code",
   "execution_count": 51,
   "metadata": {},
   "outputs": [
    {
     "name": "stdout",
     "output_type": "stream",
     "text": [
      "2005\n",
      "apna time aayega x (2)\n",
      " \n",
      "tu nanga hi to aaya hairat ne hi to aaya khwaab hai\n",
      " \n",
      "taakat ki hai\n",
      "kya tu dafnayega\n",
      " \n",
      "tu udd ja ab jeene mein nahi hai\n",
      "phir bhi ladka sehmat mein nahi to aaya hai\n",
      "phir bhi ladka sehmat nahi to khauf nahi hard’ch nai hai\n",
      " \n",
      "taakat ki, amaana ab jeene de\n",
      "ab khaayega\n",
      "apna time aaya hai\n",
      "shohrat ne hi to aaya hai\n",
      "zaroorat yeh shabdon ka jwala\n",
      "mere jaisa koyi hai\n",
      " \n",
      "taakat ki\n",
      "aur jurrat yeh shaana ab laalach nai hai\n",
      "shohrat ki, ibaadat ki hai\n",
      "kya ghanta lekar jaayega\n",
      "apna time aaya hai\n",
      "kya tu ghanta lekar jaayega\n",
      "apna time aayega\n",
      " \n",
      "ab kaise tu dafnayega\n",
      "apna time aayega x (2)\n",
      " \n",
      "tu udd ja apna time aayega apni raakh se\n",
      "matlab bana ab aadat ki\n",
      "aur jurrat nahin hairat ne hi to aaya hai\n",
      " \n",
      "iss harkat ki, ibaadat ki, amaana lala\n",
      "tujhe na mil payega\n",
      "aayega\n",
      "apna time aayega\n",
      "apna toone boya hath nai hai\n",
      "zaroorat nahi hai\n",
      "shohrat ki\n",
      "aur jurrat kismat mein nahin hai\n",
      "kya ghanta lekar jaayega\n",
      " \n",
      "tu nanga hi barkat ki\n",
      "aur jurrat ki\n",
      "aasman bhi sar uthayega\n",
      "aisa koyi hai\n",
      "phir bhi sar uthayega apna time aaya hai tu\n",
      "utna hi tha sar parwane ki\n",
      "aur jurrat ki hai seene mein\n",
      "parwane ki hai\n",
      "tere bhai seenenge\n",
      "hum kaamyabi chheene mein\n",
      " \n",
      "kissi ka jwala\n",
      "mere jaisa shaana lala\n",
      "tujhe na mila paseenenge\n",
      "hum kaamyabi chahat ki, ibaadat ki hairat yahaan par aaya hai\n",
      "kya ghanta lekar..\n",
      " \n",
      "kissi ka jwala\n",
      "mere jaisa koyi hai\n",
      "kyon ki hai\n",
      "kya ghanta lekar jaayega\n",
      "meri bediyan parwaaz dekh parwaaz dekh par\n",
      "yahaana lala\n",
      "meri bediyan pighlayega\n",
      "apna time aayega\n",
      " \n",
      "tu udd ja ab aadat ki, ibaadat ki hai jaisa koyi harkat di hai\n",
      " \n",
      "tu udd ja ab aadat ki mehnat ki\n",
      "mohobbat ki harkat ki ab laalach nahi to khauf nahi tha sar uthayega\n",
      "aisa shaana lala\n",
      "meri bediyan pighlayega\n",
      "apna time aayega\n",
      "uth ja ab aadat ki\n",
      "mohobbat ki ab aadat ki apni rehmat nahi\n",
      "utna time aayega\n",
      "meri bediyan parwaaz dekh par\n",
      "yahaan marzi ki\n",
      "jeetne ki\n",
      "aur jurrat ki hai\n",
      "kya ghanta lekar jaayega apni raaste ko bhi ladka sehmat ne hi to aaya khwaab\n",
      "ab kaise tu dafnayega\n",
      "apna time aayega\n",
      "aayega\n",
      " \n",
      "yeh hai\n",
      "kya tu ghanta lekar jaayega\n",
      "ji\n"
     ]
    }
   ],
   "source": [
    "text = generateText(\"apna \",k=4,maxLen=2000)\n",
    "print(len(text))\n",
    "print(text)"
   ]
  },
  {
   "cell_type": "code",
   "execution_count": 10,
   "metadata": {},
   "outputs": [],
   "source": [
    "f = open('ans.txt','w',encoding='utf8')\n",
    "f.write(text)\n",
    "f.close()"
   ]
  },
  {
   "cell_type": "code",
   "execution_count": null,
   "metadata": {},
   "outputs": [],
   "source": []
  }
 ],
 "metadata": {
  "kernelspec": {
   "display_name": "Python 3",
   "language": "python",
   "name": "python3"
  },
  "language_info": {
   "codemirror_mode": {
    "name": "ipython",
    "version": 3
   },
   "file_extension": ".py",
   "mimetype": "text/x-python",
   "name": "python",
   "nbconvert_exporter": "python",
   "pygments_lexer": "ipython3",
   "version": "3.7.6"
  }
 },
 "nbformat": 4,
 "nbformat_minor": 4
}
