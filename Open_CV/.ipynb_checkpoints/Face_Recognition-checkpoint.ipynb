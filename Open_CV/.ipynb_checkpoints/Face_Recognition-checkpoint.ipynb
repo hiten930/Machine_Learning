{
 "cells": [
  {
   "cell_type": "code",
   "execution_count": 2,
   "metadata": {},
   "outputs": [],
   "source": [
    "import numpy as np\n",
    "import pandas as pd\n",
    "import cv2"
   ]
  },
  {
   "cell_type": "code",
   "execution_count": null,
   "metadata": {},
   "outputs": [],
   "source": []
  },
  {
   "cell_type": "code",
   "execution_count": 15,
   "metadata": {},
   "outputs": [
    {
     "name": "stdout",
     "output_type": "stream",
     "text": [
      "Enter the Name of the Person : hiten\n"
     ]
    }
   ],
   "source": [
    "cap = cv2.VideoCapture(0)\n",
    "\n",
    "face_detection = cv2.CascadeClassifier('./haarcascade_frontalface_alt.xml')\n",
    "\n",
    "face_data = []\n",
    "dataset_path = './Data/'\n",
    "skip = 0\n",
    "\n",
    "file_name = input(\"Enter the Name of the Person : \")\n",
    "\n",
    "while True:\n",
    "    \n",
    "    ret,frame = cap.read()\n",
    "    if(ret == False):\n",
    "        continue\n",
    "   \n",
    "    gray_frame = cv2.cvtColor(frame,cv2.COLOR_BGR2GRAY)\n",
    "    faces = face_detection.detectMultiScale(gray_frame,1.3,5)\n",
    "    #if len(faces)==0:\n",
    "     #   continue\n",
    "    faces = sorted(faces , key =lambda f: f[2]*f[3])\n",
    "    \n",
    "    for x,y,w,h in faces[-1:]:\n",
    "        cv2.rectangle(frame,(x,y),(x+w,y+h),(0,225,225),2)\n",
    "        \n",
    "        \n",
    "        offset = 10\n",
    "        face_section = frame[y-offset:y+h+offset,x-offset:x+w+offset]\n",
    "        face_section = cv2.resize(face_section,(100,100))\n",
    "        \n",
    "        skip += 1\n",
    "        if(skip%10 == 0):\n",
    "            face_data.append(face_section)\n",
    "    \n",
    "    cv2.imshow('Image',frame)\n",
    "    cv2.imshow(\"Face Section\",face_section)\n",
    "    \n",
    "    \n",
    "    \n",
    "    key = cv2.waitKey(1) & 0xFF\n",
    "    if(key == ord('q')):\n",
    "        break;\n",
    "        \n",
    "face_data = np.asarray(face_data)\n",
    "face_data = face_data.reshape((face_data.shape[0],-1))\n",
    "\n",
    "np.save(dataset_path + file_name + '.npy', face_data)\n",
    "\n",
    "\n",
    "cap.release()\n",
    "cv2.destroyAllWindows()"
   ]
  },
  {
   "cell_type": "code",
   "execution_count": 16,
   "metadata": {},
   "outputs": [
    {
     "data": {
      "text/plain": [
       "(35, 30000)"
      ]
     },
     "execution_count": 16,
     "metadata": {},
     "output_type": "execute_result"
    }
   ],
   "source": [
    "face_data.shape"
   ]
  },
  {
   "cell_type": "code",
   "execution_count": null,
   "metadata": {},
   "outputs": [],
   "source": []
  }
 ],
 "metadata": {
  "kernelspec": {
   "display_name": "Python 3",
   "language": "python",
   "name": "python3"
  },
  "language_info": {
   "codemirror_mode": {
    "name": "ipython",
    "version": 3
   },
   "file_extension": ".py",
   "mimetype": "text/x-python",
   "name": "python",
   "nbconvert_exporter": "python",
   "pygments_lexer": "ipython3",
   "version": "3.8.1"
  }
 },
 "nbformat": 4,
 "nbformat_minor": 4
}
