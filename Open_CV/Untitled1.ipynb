{
 "cells": [
  {
   "cell_type": "code",
   "execution_count": 1,
   "metadata": {},
   "outputs": [],
   "source": [
    "import numpy as np\n",
    "import pandas as pd\n",
    "import cv2\n",
    "import os"
   ]
  },
  {
   "cell_type": "code",
   "execution_count": 2,
   "metadata": {},
   "outputs": [],
   "source": [
    "def dis(x1,x2):\n",
    "    return np.sqrt(sum((x1-x2)**2))\n",
    "\n",
    "def knn(X,Y,X_test,k=13):\n",
    "    val =[]\n",
    "    m1 = X.shape[0]\n",
    "    m2 = X_test.shape[0]\n",
    "    \n",
    "    for i in range(m2):\n",
    "        val1 =[]\n",
    "        for j in range(m1):\n",
    "            d = dis(X_test[i],X[j])\n",
    "            val1.append((d,Y[j]))\n",
    "        \n",
    "        val1 = sorted(val1)\n",
    "        val1 = val1[:k]\n",
    "        val1 = np.array(val1)\n",
    "        \n",
    "        n_v = np.unique(val1[:,1],return_counts=True)\n",
    "        index = n_v[1].argmax()\n",
    "        pred = n_v[0][index]\n",
    "        \n",
    "        val.append(pred)\n",
    "        \n",
    "    return val"
   ]
  },
  {
   "cell_type": "code",
   "execution_count": 3,
   "metadata": {},
   "outputs": [
    {
     "name": "stdout",
     "output_type": "stream",
     "text": [
      "deepshikha.npy\n",
      "h.npy\n",
      "Hiten.npy\n",
      "rajesh.npy\n"
     ]
    }
   ],
   "source": [
    "for fx in os.listdir('./Data/'):\n",
    "    if fx.endswith('.npy'):\n",
    "        print(fx)"
   ]
  },
  {
   "cell_type": "code",
   "execution_count": 5,
   "metadata": {},
   "outputs": [],
   "source": [
    "from sklearn.neighbors import KNeighborsClassifier"
   ]
  },
  {
   "cell_type": "code",
   "execution_count": 6,
   "metadata": {},
   "outputs": [],
   "source": [
    "k = KNeighborsClassifier(n_neighbors=21)"
   ]
  },
  {
   "cell_type": "code",
   "execution_count": null,
   "metadata": {},
   "outputs": [],
   "source": []
  },
  {
   "cell_type": "code",
   "execution_count": null,
   "metadata": {},
   "outputs": [],
   "source": []
  },
  {
   "cell_type": "code",
   "execution_count": null,
   "metadata": {},
   "outputs": [],
   "source": []
  },
  {
   "cell_type": "code",
   "execution_count": 7,
   "metadata": {},
   "outputs": [],
   "source": [
    "cap = cv2.VideoCapture(0)\n",
    "face = cv2.CascadeClassifier('./haarcascade_frontalface_alt.xml')\n",
    "\n",
    "skip = 0\n",
    "dataset_path = './Data/'\n",
    "\n",
    "face_data = []\n",
    "label = []\n",
    "class_id = 0\n",
    "names = {}\n",
    "\n",
    "for fx in os.listdir(dataset_path):\n",
    "    if fx.endswith('.npy'):\n",
    "        names[class_id] = fx[:-4]\n",
    "        face_file = np.load(dataset_path + fx)\n",
    "        face_data.append(face_file)\n",
    "        \n",
    "        target = class_id*(np.ones((face_file.shape[0])))\n",
    "        label.append(target)\n",
    "        class_id +=1\n",
    "     \n",
    "    \n",
    "face_data = np.concatenate(face_data,axis=0)\n",
    "label = np.concatenate(label,axis=0)\n",
    "    \n",
    "while True:\n",
    "    ret,frame = cap.read()\n",
    "    if ret==False:\n",
    "        continue\n",
    "    \n",
    "    gray_frame = cv2.cvtColor(frame,cv2.COLOR_BGR2GRAY)\n",
    "    faces = face.detectMultiScale(gray_frame,1.3,5)\n",
    "    \n",
    "    for f in faces:\n",
    "        x,y,w,h =f\n",
    "        \n",
    "        offset = 10\n",
    "        face_section = frame[y-offset:y+h+offset,x-offset:x+w+offset]\n",
    "        face_section = cv2.resize(face_section,(100,100))\n",
    "        \n",
    "        f1 = face_section.flatten().reshape((1,30000))\n",
    "        #print('yes')\n",
    "        #print(face_data.shape,label.shape,f1.shape)\n",
    "        #out = knn(face_data,label,f1)\n",
    "        k.fit(face_data,label)\n",
    "        out = k.predict(f1)\n",
    "        \n",
    "        #print('yes1')\n",
    "        pre_name = names[int(out[0])]\n",
    "        \n",
    "        cv2.putText(frame,pre_name,(x,y-10),cv2.FONT_HERSHEY_SIMPLEX,1,(225,0,0),2,cv2.LINE_AA)\n",
    "        cv2.rectangle(frame,(x,y),(x+w,y+h),(0,225,225),2)\n",
    "        \n",
    "    cv2.imshow('Camera',frame)\n",
    "    \n",
    "    key = cv2.waitKey(1) & 0xFF\n",
    "    if(key == ord('q')):\n",
    "        break;\n",
    "        \n",
    "cap.release()\n",
    "cv2.destroyAllWindows()             "
   ]
  },
  {
   "cell_type": "code",
   "execution_count": 5,
   "metadata": {},
   "outputs": [],
   "source": [
    "z = np.array([1,2,3])"
   ]
  },
  {
   "cell_type": "code",
   "execution_count": 10,
   "metadata": {},
   "outputs": [],
   "source": [
    "z= z.reshape((1,3))"
   ]
  },
  {
   "cell_type": "code",
   "execution_count": 11,
   "metadata": {},
   "outputs": [
    {
     "data": {
      "text/plain": [
       "(1, 3)"
      ]
     },
     "execution_count": 11,
     "metadata": {},
     "output_type": "execute_result"
    }
   ],
   "source": [
    "z.shape"
   ]
  },
  {
   "cell_type": "code",
   "execution_count": null,
   "metadata": {},
   "outputs": [],
   "source": []
  }
 ],
 "metadata": {
  "kernelspec": {
   "display_name": "Python 3",
   "language": "python",
   "name": "python3"
  },
  "language_info": {
   "codemirror_mode": {
    "name": "ipython",
    "version": 3
   },
   "file_extension": ".py",
   "mimetype": "text/x-python",
   "name": "python",
   "nbconvert_exporter": "python",
   "pygments_lexer": "ipython3",
   "version": "3.8.1"
  }
 },
 "nbformat": 4,
 "nbformat_minor": 4
}
